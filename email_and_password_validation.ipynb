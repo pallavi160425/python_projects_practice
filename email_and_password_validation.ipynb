{
  "nbformat": 4,
  "nbformat_minor": 0,
  "metadata": {
    "colab": {
      "provenance": [],
      "toc_visible": true,
      "authorship_tag": "ABX9TyOVklRLQiO26Ed9YJOChAwU",
      "include_colab_link": true
    },
    "kernelspec": {
      "name": "python3",
      "display_name": "Python 3"
    },
    "language_info": {
      "name": "python"
    }
  },
  "cells": [
    {
      "cell_type": "markdown",
      "metadata": {
        "id": "view-in-github",
        "colab_type": "text"
      },
      "source": [
        "<a href=\"https://colab.research.google.com/github/pallavi160425/python_projects_practice/blob/main/email_and_password_validation.ipynb\" target=\"_parent\"><img src=\"https://colab.research.google.com/assets/colab-badge.svg\" alt=\"Open In Colab\"/></a>"
      ]
    },
    {
      "cell_type": "code",
      "execution_count": null,
      "metadata": {
        "id": "NlNDL-rn0Cg8",
        "colab": {
          "base_uri": "https://localhost:8080/"
        },
        "outputId": "9ef52fba-e2a6-404a-e87d-7c46c67c6100"
      },
      "outputs": [
        {
          "output_type": "stream",
          "name": "stdout",
          "text": [
            "enter the email :fyrfuiehf@uhiu$xt%yg.ie\n",
            "enter the password :ffhfeh8u\n",
            "<class 'list'>\n"
          ]
        }
      ],
      "source": [
        "#EMAIL and PASSWORD VALIDATION\n",
        "User_name = input(\"enter the email :\")\n",
        "password  =input(\"enter the password :\")\n",
        "list1 = ['$','%','&','*','@','.'] #manamu ichhe email lo special characters unnayo ledho telusukovadam\n",
        "print(type(list1))\n",
        "\n",
        "\n"
      ]
    },
    {
      "cell_type": "code",
      "source": [
        "email=input()"
      ],
      "metadata": {
        "colab": {
          "base_uri": "https://localhost:8080/"
        },
        "id": "P9fgq8ym_zFK",
        "outputId": "35531376-c01e-4d38-b9ef-50f83d613438"
      },
      "execution_count": null,
      "outputs": [
        {
          "name": "stdout",
          "output_type": "stream",
          "text": [
            "cyciujcoi\n"
          ]
        }
      ]
    },
    {
      "cell_type": "code",
      "source": [],
      "metadata": {
        "id": "h7cUV5luj7Tj"
      },
      "execution_count": null,
      "outputs": []
    },
    {
      "cell_type": "code",
      "source": [],
      "metadata": {
        "id": "lpnujYAC5KZu"
      },
      "execution_count": null,
      "outputs": []
    },
    {
      "cell_type": "markdown",
      "source": [
        "\n",
        "\n",
        "```\n",
        "\n",
        "#Email and Password Validation in Functions"
      ],
      "metadata": {
        "id": "EQ0n3cO7j8jS"
      }
    },
    {
      "cell_type": "code",
      "source": [
        "User_name = input(\"enter the email :\")\n",
        "password  =input(\"enter the password :\")"
      ],
      "metadata": {
        "colab": {
          "base_uri": "https://localhost:8080/"
        },
        "id": "eSSWK5MOecji",
        "outputId": "a638fa5b-13b4-4080-afff-b3bc80261191"
      },
      "execution_count": null,
      "outputs": [
        {
          "name": "stdout",
          "output_type": "stream",
          "text": [
            "enter the email :ydgd98dk\n",
            "enter the password :uhh\n"
          ]
        }
      ]
    },
    {
      "cell_type": "code",
      "source": [
        "def registration(User_name,password):\n",
        "\n",
        "  #email validation\n",
        "  User_name = input(\"enter the email :\")\n",
        "list1 =  '$ % ^ & * ( ) _ + = { } | \\\\ ; : \" < > , . / ? @ # % ^ & * + - × ÷ = ≈ ∊ ∊ ∫ ∞ √ π' #manamu ichhe email lo special characters unnayo ledho telusukovadam\n",
        "list1=list1.split(\" \")\n",
        "\n",
        "print(type(list1))\n",
        "\n",
        "if ('@' in User_name):\n",
        "  print('@ in email')\n",
        "\n",
        "\n",
        "if ('.' in User_name):\n",
        "  print('. in email')\n",
        "\n",
        "\n",
        "\n",
        "#print(User_name[0].isdigit())\n",
        "\n",
        "if User_name[0].isdigit():\n",
        "  print('first letter is a digit in your email')\n",
        "#print(User_name[0].isdigit())\n",
        "\n",
        "if User_name[0] in list1:\n",
        "  print('first letter is a special character in your email')\n",
        "#print(User_name[0] in list1)\n",
        "\n",
        "\n",
        "for i in range(len(User_name)):\n",
        "  #print(i)\n",
        "  pass\n",
        "\n",
        "if ('@' in User_name) and ('.' in User_name) and (not User_name[0].isdigit()) and (not User_name[0] in list1):\n",
        "\n",
        "#if i in list1:\n",
        "  print(User_name.index(\"@\"))\n",
        "  print(User_name.index(\".\"))\n",
        "\n",
        "  A = User_name.index(\"@\")\n",
        "  B = User_name.index(\".\")\n",
        "\n",
        "  #print(A,'@')\n",
        "  #print(B,'.')\n",
        "\n",
        "  if A<B and B-A>=3:\n",
        "    print('yes VALID USERNAME')\n",
        "\n",
        "    with open('registration.txt','a+')as file:\n",
        "\n",
        "      file.write(User_name+\" \")\n",
        "\n",
        "      info = file.read()\n",
        "\n",
        "      print(info)\n",
        "\n",
        "else:\n",
        "  print('Cannot validate username')\n",
        "\n",
        "  #if ('@' in User_name) and ('.' in User_name) and (not User_name[0].isdigit()) and (not User_name[0] in list1):\n",
        "    #print('yes Valid User Name')\n",
        "  #else:\n",
        "    #print('invalid')\n",
        "\n",
        "\n",
        "#Password validation\n",
        "#password = input('enter the password : ')\n",
        "list1 = ['$','%','&','*','@','.']\n",
        "\n",
        "Upper = False\n",
        "Lower = False\n",
        "Digit = False\n",
        "\n",
        "if 5 <=len(password) <=15:  #password length 5 to 15 lopu undali.ikkada undho ledho check cheyyadam\n",
        "  print('password length ok')\n",
        "\n",
        "\n",
        "for i in password:\n",
        "  if i in list1:\n",
        "    print('special_char')\n",
        "\n",
        "  #if 5 <=len(password) <=15:  #password length 5 to 15 lopu undali.ikkada undho ledho check cheyyadam\n",
        "    #print('yes')\n",
        "\n",
        "\n",
        "\n",
        "  if i.isupper():\n",
        "    Upper = True\n",
        "  elif i.islower():\n",
        "    Lower = True\n",
        "  elif i.isdigit():\n",
        "    Digit = True\n",
        "\n",
        "if (Upper and Lower and Digit):\n",
        "\n",
        "  print('lower,upper,digit')\n",
        "\n",
        "#if 5 <=len(password) <=15:  #password length 5 to 15 lopu undali.ikkada undho ledho check cheyyadam\n",
        "\n",
        "  #print('yes')\n",
        "#if i in list1:\n",
        "  #print('special_char')\n",
        "\n",
        "  with open('registration.txt','a+')as file:\n",
        "\n",
        "    file.write(password+'\\n')\n",
        "\n",
        "    info=file.read()\n",
        "\n",
        "    print(info)\n",
        "\n",
        "\n",
        "else:\n",
        "  print(\"password invalid\")\n",
        "\n",
        "\n",
        "\n",
        "  #if i.isupper():\n",
        "    #print('upper')\n",
        "  #elif i.islower():\n",
        "   # print('lower')\n",
        "\n",
        "\n",
        "\n",
        "\n"
      ],
      "metadata": {
        "colab": {
          "base_uri": "https://localhost:8080/"
        },
        "id": "VQbOWQKz9aJ-",
        "outputId": "ec8e9cb4-b959-437d-ae4a-9849ccd45542"
      },
      "execution_count": null,
      "outputs": [
        {
          "output_type": "stream",
          "name": "stdout",
          "text": [
            "<class 'list'>\n",
            "Cannot validate username\n",
            "password invalid\n"
          ]
        }
      ]
    },
    {
      "cell_type": "code",
      "source": [
        "User_name = input(\"enter the email :\")\n",
        "password  =input(\"enter the password :\")"
      ],
      "metadata": {
        "id": "MaTYiO-Nd7VD"
      },
      "execution_count": null,
      "outputs": []
    },
    {
      "cell_type": "code",
      "source": [
        "registration(User_name,password)"
      ],
      "metadata": {
        "colab": {
          "base_uri": "https://localhost:8080/"
        },
        "id": "M5YJIohB_Wso",
        "outputId": "b7c4df26-7ed4-4243-8c17-6d5023f9ad7f"
      },
      "execution_count": null,
      "outputs": [
        {
          "name": "stdout",
          "output_type": "stream",
          "text": [
            "enter the email :ftggudy\n"
          ]
        }
      ]
    },
    {
      "cell_type": "code",
      "source": [
        "\n",
        "\n",
        "print(list1)\n",
        "\n",
        "for i in range(len(User_name)):\n",
        "  pass\n",
        "\n",
        "print('@' in User_name,'kl')\n",
        "print('.' in User_name)\n",
        "\n",
        "\n",
        "  #print(i)\n",
        "  #print(User_name[i],'ui')\n",
        "  #print(User_name[i][-1:])\n",
        "  #print(User_name.index(\"@\"))\n",
        "  #print(User_name.index(\".\"))\n",
        "\n",
        "  #if i in list1:\n",
        "print(User_name.index(\"@\"))  #'@' index(ante adhi unde place num telusukovadam)\n",
        "print(User_name.index(\".\"))  #'.'(fullstop) index(ante adhi unde place telusukovadam)\n",
        "A=User_name.index(\"@\") #'@'index ni oka variable lo store cheyyali\n",
        "B=User_name.index(\".\") #'.' index ni oka variable lo store cheyyali\n",
        "print(A,'@')\n",
        "print(B,'.')\n",
        "\n",
        "if A<B and B-A>=3:\n",
        "  print('yes VALID USERNAME')\n",
        "else:\n",
        "  print('no')\n",
        "\n",
        "\n",
        "    #count =count+1\n",
        "\n",
        "  #if (i==list[5]):\n",
        "    #print('yes')\n",
        "  #if (i=='@'):\n",
        "    #print('yes')"
      ],
      "metadata": {
        "id": "qkTBH8iv57IR",
        "outputId": "146c71a8-2a6e-476c-b36d-eae73ab1245b",
        "colab": {
          "base_uri": "https://localhost:8080/"
        }
      },
      "execution_count": null,
      "outputs": [
        {
          "output_type": "stream",
          "name": "stdout",
          "text": [
            "['$', '%', '&', '*', '@', '.']\n",
            "True kl\n",
            "True\n",
            "7\n",
            "14\n",
            "7 @\n",
            "14 .\n",
            "yes VALID USERNAME\n"
          ]
        }
      ]
    },
    {
      "cell_type": "code",
      "source": [],
      "metadata": {
        "colab": {
          "base_uri": "https://localhost:8080/"
        },
        "id": "DsADWH1Gy-b2",
        "outputId": "c50b9f68-0813-4313-f463-694c303cec9e"
      },
      "execution_count": null,
      "outputs": [
        {
          "output_type": "stream",
          "name": "stdout",
          "text": [
            "enter the email :#reee@gami.com\n",
            "<class 'list'>\n",
            "@ in email\n",
            ". in email\n",
            "5\n",
            "10\n",
            "yes VALID USERNAME\n"
          ]
        }
      ]
    },
    {
      "cell_type": "markdown",
      "source": [],
      "metadata": {
        "id": "kT1l6nNKPrOV"
      }
    },
    {
      "cell_type": "code",
      "source": [
        "special ='{ } | \\\\ ; : \" < > , . / ? ! @ # $ % ^ & * ( ) _ + ='\n",
        "special = special.split(\" \")\n",
        "special"
      ],
      "metadata": {
        "colab": {
          "base_uri": "https://localhost:8080/"
        },
        "id": "b6y1AsppOLxg",
        "outputId": "909a94f9-1922-483e-c189-176e67cc5244"
      },
      "execution_count": null,
      "outputs": [
        {
          "output_type": "execute_result",
          "data": {
            "text/plain": [
              "['{',\n",
              " '}',\n",
              " '|',\n",
              " '\\\\',\n",
              " ';',\n",
              " ':',\n",
              " '\"',\n",
              " '<',\n",
              " '>',\n",
              " ',',\n",
              " '.',\n",
              " '/',\n",
              " '?',\n",
              " '!',\n",
              " '@',\n",
              " '#',\n",
              " '$',\n",
              " '%',\n",
              " '^',\n",
              " '&',\n",
              " '*',\n",
              " '(',\n",
              " ')',\n",
              " '_',\n",
              " '+',\n",
              " '=']"
            ]
          },
          "metadata": {},
          "execution_count": 9
        }
      ]
    },
    {
      "cell_type": "code",
      "source": [],
      "metadata": {
        "id": "Fn6bb0MblNi3"
      },
      "execution_count": null,
      "outputs": []
    },
    {
      "cell_type": "markdown",
      "source": [
        "# Practice Section"
      ],
      "metadata": {
        "id": "_dOBCFRzlO0z"
      }
    },
    {
      "cell_type": "code",
      "source": [
        "User_name = input(\"enter the email :\")\n",
        "password  =input(\"enter the password :\")"
      ],
      "metadata": {
        "id": "HO88Sf-VlG84",
        "colab": {
          "base_uri": "https://localhost:8080/"
        },
        "outputId": "92877f41-d69b-4d48-f432-18b84d9e1d40"
      },
      "execution_count": null,
      "outputs": [
        {
          "name": "stdout",
          "output_type": "stream",
          "text": [
            "enter the email :txyueyuc@xik\n",
            "enter the password :dehicicoc\n"
          ]
        }
      ]
    },
    {
      "cell_type": "code",
      "source": [
        "def registration(User_name,password):\n",
        "\n",
        "  #email validation\n",
        "  User_name = input(\"enter the email :\")\n",
        "list1 =  '$ % ^ & * ( ) _ + = { } | \\\\ ; : \" < > , . / ? @ # % ^ & * + - × ÷ = ≈ ∊ ∊ ∫ ∞ √ π' #manamu ichhe email lo special characters unnayo ledho telusukovadam\n",
        "list1=list1.split(\" \")\n",
        "\n",
        "print(type(list1))\n",
        "\n",
        "if ('@' in User_name):\n",
        "  print('@ in email')\n",
        "\n",
        "\n",
        "if ('.' in User_name):\n",
        "  print('. in email')\n",
        "\n",
        "\n",
        "\n",
        "#print(User_name[0].isdigit())\n",
        "\n",
        "if User_name[0].isdigit():\n",
        "  print('first letter is a digit in your email')\n",
        "#print(User_name[0].isdigit())\n",
        "\n",
        "if User_name[0] in list1:\n",
        "  print('first letter is a special character in your email')\n",
        "#print(User_name[0] in list1)\n",
        "\n",
        "\n",
        "for i in range(len(User_name)):\n",
        "  #print(i)\n",
        "  pass\n",
        "\n",
        "if ('@' in User_name) and ('.' in User_name) and (not User_name[0].isdigit()) and (not User_name[0] in list1):\n",
        "\n",
        "#if i in list1:\n",
        "  print(User_name.index(\"@\"))\n",
        "  print(User_name.index(\".\"))\n",
        "\n",
        "  A = User_name.index(\"@\")\n",
        "  B = User_name.index(\".\")\n",
        "\n",
        "  #print(A,'@')\n",
        "  #print(B,'.')with open('registration\n",
        "\n",
        "  if A<B and B-A>=3:\n",
        "    print('yes VALID USERNAME')\n",
        "    with open('registration.txt','a+')as file:\n",
        "      file.write(User_name+\" \")\n",
        "      info=file.read()\n",
        "      print(info)\n",
        "\n",
        "else:\n",
        "  print('Cannot validate username')\n",
        "\n",
        "  #if ('@' in User_name) and ('.' in User_name) and (not User_name[0].isdigit()) and (not User_name[0] in list1):\n",
        "    #print('yes Valid User Name')\n",
        "  #else:\n",
        "    #print('invalid')\n",
        "\n",
        "\n",
        "#Password validation\n",
        "#password = input('enter the password : ')\n",
        "list1 = ['$','%','&','*','@','.']\n",
        "\n",
        "Upper = False\n",
        "Lower = False\n",
        "Digit = False\n",
        "\n",
        "if 5 <=len(password) <=15:  #password length 5 to 15 lopu undali.ikkada undho ledho check cheyyadam\n",
        "  print('password length ok')\n",
        "\n",
        "\n",
        "for i in password:\n",
        "  if i in list1:\n",
        "    print('special_char')\n",
        "\n",
        "  #if 5 <=len(password) <=15:  #password length 5 to 15 lopu undali.ikkada undho ledho check cheyyadam\n",
        "    #print('yes')\n",
        "\n",
        "\n",
        "\n",
        "  if i.isupper():\n",
        "    Upper = True\n",
        "  elif i.islower():\n",
        "    Lower = True\n",
        "  elif i.isdigit():\n",
        "    Digit = True\n",
        "\n",
        "if (Upper and Lower and Digit):\n",
        "\n",
        "  print('lower,upper,digit')\n",
        "\n",
        "#if 5 <=len(password) <=15:  #password length 5 to 15 lopu undali.ikkada undho ledho check cheyyadam\n",
        "\n",
        "  #print('yes')\n",
        "#if i in list1:\n",
        "  #print('special_char')\n",
        "  with open('registration.txt','a+')as file:\n",
        "    file.write(password+'\\n')\n",
        "    info=file.read()\n",
        "    print(info)\n",
        "\n",
        "\n",
        "\n",
        "else:\n",
        "  print(\"password invalid\")\n",
        "\n",
        "\n",
        "\n",
        "  #if i.isupper():\n",
        "    #print('upper')\n",
        "  #elif i.islower():\n",
        "   # print('lower')\n",
        "\n",
        "\n",
        "\n",
        "\n"
      ],
      "metadata": {
        "id": "H-JsUDdlk4R4",
        "colab": {
          "base_uri": "https://localhost:8080/"
        },
        "outputId": "4bcf191c-e4f1-401d-fcca-73ac3f9bc149"
      },
      "execution_count": null,
      "outputs": [
        {
          "output_type": "stream",
          "name": "stdout",
          "text": [
            "<class 'list'>\n",
            "@ in email\n",
            "Cannot validate username\n",
            "password length ok\n",
            "password invalid\n"
          ]
        }
      ]
    },
    {
      "cell_type": "code",
      "source": [],
      "metadata": {
        "id": "OC3RWg2S5XUG"
      },
      "execution_count": null,
      "outputs": []
    },
    {
      "cell_type": "markdown",
      "source": [
        "# file formating"
      ],
      "metadata": {
        "id": "7b9evmqy5Yii"
      }
    },
    {
      "cell_type": "code",
      "source": [
        "file = open('pallavi.txt','w')\n",
        "file.write('hello\\n')\n",
        "file.close()\n",
        "\n",
        "\n"
      ],
      "metadata": {
        "id": "vb29sjTXnlIE"
      },
      "execution_count": null,
      "outputs": []
    },
    {
      "cell_type": "code",
      "source": [
        "with open('registration.txt','w') as file:\n",
        "  file.write('yhcu\\n')\n",
        "  file.write('fiureji')\n",
        "  file.close()"
      ],
      "metadata": {
        "id": "46Bxgc-XnlEy"
      },
      "execution_count": null,
      "outputs": []
    },
    {
      "cell_type": "code",
      "source": [
        "with open('yhfyhu.txt','w') as file:\n",
        "  file.write('hello')\n",
        "  file.close()"
      ],
      "metadata": {
        "id": "vka3BNsNnk8m"
      },
      "execution_count": null,
      "outputs": []
    },
    {
      "cell_type": "code",
      "source": [
        "with open('myfile2.txt','a+') as file:\n",
        "  #print(file.tell())\n",
        "  file.write('hi_this is me\\n')\n",
        "\n",
        "  info = file.read()\n",
        "  print(info)\n"
      ],
      "metadata": {
        "colab": {
          "base_uri": "https://localhost:8080/"
        },
        "id": "YI4yuhGltUoz",
        "outputId": "281a948b-1eb3-4fab-9385-dc0a603f82a9"
      },
      "execution_count": null,
      "outputs": [
        {
          "output_type": "stream",
          "name": "stdout",
          "text": [
            "\n"
          ]
        }
      ]
    },
    {
      "cell_type": "code",
      "source": [],
      "metadata": {
        "id": "6fEXbIp0tUbE"
      },
      "execution_count": null,
      "outputs": []
    },
    {
      "cell_type": "markdown",
      "source": [
        "# Username validation\n"
      ],
      "metadata": {
        "id": "JpyxnZXuNOvU"
      }
    },
    {
      "cell_type": "code",
      "source": [
        "#email validation\n",
        "User_name = input(\"enter the email :\")\n",
        "\n",
        "list1 =  '$ % ^ & * ( ) _ + = { } | \\\\ ; : \" < > , . / ? @ # % ^ & * + - × ÷ = ≈ ∊ ∊ ∫ ∞ √ π' #manamu ichhe email lo special characters unnayo ledho telusukovadam\n",
        "list1=list1.split(\" \")\n",
        "\n",
        "print(type(list1))\n",
        "\n",
        "if ('@' in User_name):\n",
        "  print('@ in email')\n",
        "\n",
        "\n",
        "if ('.' in User_name):\n",
        "  print('. in email')\n",
        "\n",
        "\n",
        "\n",
        "#print(User_name[0].isdigit())\n",
        "\n",
        "if User_name[0].isdigit():\n",
        "  print('first letter is a digit in your email')\n",
        "#print(User_name[0].isdigit())\n",
        "\n",
        "if User_name[0] in list1:\n",
        "  print('first letter is a special character in your email')\n",
        "#print(User_name[0] in list1)\n",
        "\n",
        "\n",
        "for i in range(len(User_name)):\n",
        "  #print(i)\n",
        "  pass\n",
        "\n",
        "if ('@' in User_name) and ('.' in User_name) and (not User_name[0].isdigit()) and (not User_name[0] in list1):\n",
        "\n",
        "#if i in list1:\n",
        "  print(User_name.index(\"@\"))\n",
        "  print(User_name.index(\".\"))\n",
        "\n",
        "  A = User_name.index(\"@\")\n",
        "  B = User_name.index(\".\")\n",
        "\n",
        "  #print(A,'@')\n",
        "  #print(B,'.')\n",
        "\n",
        "  if A<B and B-A>=3:\n",
        "    print('yes VALID USERNAME')\n",
        "\n",
        "else:\n",
        "  print('Cannot validate username')"
      ],
      "metadata": {
        "id": "KyOd8q25NVD9",
        "colab": {
          "base_uri": "https://localhost:8080/"
        },
        "outputId": "b061c03e-fb08-4c91-cddd-52a06ad8eb37"
      },
      "execution_count": null,
      "outputs": [
        {
          "output_type": "stream",
          "name": "stdout",
          "text": [
            "enter the email :ugtrijork\n",
            "<class 'list'>\n",
            "Cannot validate username\n"
          ]
        }
      ]
    },
    {
      "cell_type": "code",
      "source": [],
      "metadata": {
        "id": "Drb5tr3CdNTR"
      },
      "execution_count": null,
      "outputs": []
    },
    {
      "cell_type": "code",
      "source": [
        "#email validation\n",
        "User_name = input(\"enter the email :\")\n",
        "\n",
        "list1 =  '$ % ^ & * ( ) _ + = { } | \\\\ ; : \" < > , . / ? @ # % ^ & * + - × ÷ = ≈ ∊ ∊ ∫ ∞ √ π' #manamu ichhe email lo special characters unnayo ledho telusukovadam\n",
        "list1=list1.split(\" \")\n",
        "\n",
        "print(type(list1))\n",
        "\n",
        "if ('@' in User_name):\n",
        "  print('@ in email')\n",
        "\n",
        "\n",
        "if ('.' in User_name):\n",
        "  print('. in email')\n",
        "\n",
        "\n",
        "\n",
        "#print(User_name[0].isdigit())\n",
        "\n",
        "if User_name[0].isdigit():\n",
        "  print('first letter is a digit in your email')\n",
        "#print(User_name[0].isdigit())\n",
        "\n",
        "if User_name[0] in list1:\n",
        "  print('first letter is a special character in your email')\n",
        "#print(User_name[0] in list1)\n",
        "\n",
        "\n",
        "for i in range(len(User_name)):\n",
        "  #print(i)\n",
        "  pass\n",
        "\n",
        "if ('@' in User_name) and ('.' in User_name) and (not User_name[0].isdigit()) and (not User_name[0] in list1):\n",
        "\n",
        "#if i in list1:\n",
        "  print(User_name.index(\"@\"))\n",
        "  print(User_name.index(\".\"))\n",
        "\n",
        "  A = User_name.index(\"@\")\n",
        "  B = User_name.index(\".\")\n",
        "\n",
        "  #print(A,'@')\n",
        "  #print(B,'.')\n",
        "\n",
        "  if A<B and B-A>=3:\n",
        "    print('yes VALID USERNAME')\n",
        "\n",
        "else:\n",
        "  print('Cannot validate username')\n",
        "\n",
        "\n",
        "#Password validation\n",
        "password = input('enter the password : ')\n",
        "list1 = ['$','%','&','*','@','.']\n",
        "\n",
        "Upper = False\n",
        "Lower = False\n",
        "Digit = False\n",
        "\n",
        "if 5 <=len(password) <=15:  #password length 5 to 15 lopu undali.ikkada undho ledho check cheyyadam\n",
        "  print('password length ok')\n",
        "\n",
        "\n",
        "for i in password:\n",
        "  if i in list1:\n",
        "    print('special_char')\n",
        "\n",
        "  #if 5 <=len(password) <=15:  #password length 5 to 15 lopu undali.ikkada undho ledho check cheyyadam\n",
        "    #print('yes')\n",
        "\n",
        "\n",
        "\n",
        "  if i.isupper():\n",
        "    Upper = True\n",
        "  elif i.islower():\n",
        "    Lower = True\n",
        "  elif i.isdigit():\n",
        "    Digit = True\n",
        "\n",
        "if (Upper and Lower and Digit):\n",
        "\n",
        "  print('lower,upper,digit')\n",
        "\n",
        "#if 5 <=len(password) <=15:  #password length 5 to 15 lopu undali.ikkada undho ledho check cheyyadam\n",
        "\n",
        "  #print('yes')\n",
        "#if i in list1:\n",
        "  #print('special_char')\n",
        "\n",
        "\n",
        "\n",
        "else:\n",
        "  print(\"password invalid\")\n",
        "\n",
        "\n",
        "\n",
        "  #if i.isupper():\n",
        "    #print('upper')\n",
        "  #elif i.islower():\n",
        "   # print('lower')\n",
        "\n",
        "\n"
      ],
      "metadata": {
        "id": "1gFLXb80NaAK",
        "colab": {
          "base_uri": "https://localhost:8080/"
        },
        "outputId": "7515d40c-55c6-4d33-9f97-c0841dad60da"
      },
      "execution_count": null,
      "outputs": [
        {
          "output_type": "stream",
          "name": "stdout",
          "text": [
            "enter the email :dhud\n",
            "<class 'list'>\n",
            "Cannot validate username\n",
            "enter the password : ydrehce8\n",
            "password length ok\n",
            "password invalid\n"
          ]
        }
      ]
    },
    {
      "cell_type": "markdown",
      "source": [
        "# Password validation"
      ],
      "metadata": {
        "id": "P5Ya9XNjNP3M"
      }
    },
    {
      "cell_type": "code",
      "source": [
        "#Password validation\n",
        "password = input('enter the password : ')\n",
        "list1 = ['$','%','&','*','@','.']\n",
        "\n",
        "Upper = False\n",
        "Lower = False\n",
        "Digit = False\n",
        "\n",
        "if 5 <=len(password) <=15:  #password length 5 to 15 lopu undali.ikkada undho ledho check cheyyadam\n",
        "  print('password length ok')\n",
        "\n",
        "\n",
        "for i in password:\n",
        "  if i in list1:\n",
        "    print('special_char')\n",
        "\n",
        "  #if 5 <=len(password) <=15:  #password length 5 to 15 lopu undali.ikkada undho ledho check cheyyadam\n",
        "    #print('yes')\n",
        "\n",
        "\n",
        "\n",
        "  if i.isupper():\n",
        "    Upper = True\n",
        "  elif i.islower():\n",
        "    Lower = True\n",
        "  elif i.isdigit():\n",
        "    Digit = True\n",
        "\n",
        "if (Upper and Lower and Digit):\n",
        "\n",
        "  print('lower,upper,digit')\n",
        "\n",
        "#if 5 <=len(password) <=15:  #password length 5 to 15 lopu undali.ikkada undho ledho check cheyyadam\n",
        "\n",
        "  #print('yes')\n",
        "#if i in list1:\n",
        "  #print('special_char')\n",
        "\n",
        "\n",
        "\n",
        "else:\n",
        "  print(\"password invalid\")\n",
        "\n",
        "\n",
        "\n",
        "  #if i.isupper():\n",
        "    #print('upper')\n",
        "  #elif i.islower():\n",
        "   # print('lower')"
      ],
      "metadata": {
        "id": "tI_RnaVbNoZc",
        "colab": {
          "base_uri": "https://localhost:8080/"
        },
        "outputId": "7b4e3e9d-af08-46bd-e637-29517dd65210"
      },
      "execution_count": null,
      "outputs": [
        {
          "output_type": "stream",
          "name": "stdout",
          "text": [
            "enter the password : yyEuh@7e\n",
            "password length ok\n",
            "special_char\n",
            "lower,upper,digit\n"
          ]
        }
      ]
    },
    {
      "cell_type": "code",
      "source": [
        "for i in User_name:\n",
        "  #print(i.isdigit())\n",
        "  pass\n",
        "print(User_name[0].isdigit())\n"
      ],
      "metadata": {
        "colab": {
          "base_uri": "https://localhost:8080/"
        },
        "id": "3lFAoP_Uy-Yb",
        "outputId": "4a408e6f-93c5-4bbd-a372-2d236a1a686d"
      },
      "execution_count": null,
      "outputs": [
        {
          "output_type": "stream",
          "name": "stdout",
          "text": [
            "False\n"
          ]
        }
      ]
    },
    {
      "cell_type": "code",
      "source": [
        "for i in range(len(User_name)):\n",
        " print(User_name.index(\"@\"))\n",
        " print(User_name.index(\".\"))\n",
        "\n",
        "\n"
      ],
      "metadata": {
        "colab": {
          "base_uri": "https://localhost:8080/"
        },
        "id": "0jWV09v9Sdor",
        "outputId": "81857899-283e-4645-f630-1aa559dcd2d3"
      },
      "execution_count": null,
      "outputs": [
        {
          "output_type": "stream",
          "name": "stdout",
          "text": [
            "0\n",
            "9\n",
            "0\n",
            "9\n",
            "0\n",
            "9\n",
            "0\n",
            "9\n",
            "0\n",
            "9\n",
            "0\n",
            "9\n",
            "0\n",
            "9\n",
            "0\n",
            "9\n",
            "0\n",
            "9\n",
            "0\n",
            "9\n",
            "0\n",
            "9\n",
            "0\n",
            "9\n",
            "0\n",
            "9\n"
          ]
        }
      ]
    },
    {
      "cell_type": "code",
      "source": [
        "for i in User_name:\n",
        " print(i)\n",
        " print(i.isdigit())\n",
        " if i in list1:\n",
        "  print('yes')\n",
        "\n",
        "\n",
        "print(User_name.isdigit())"
      ],
      "metadata": {
        "colab": {
          "base_uri": "https://localhost:8080/"
        },
        "id": "MdFG4Z6BEoBM",
        "outputId": "bb301259-8d43-4395-bd85-ca81ffc4fc58"
      },
      "execution_count": null,
      "outputs": [
        {
          "output_type": "stream",
          "name": "stdout",
          "text": [
            "c\n",
            "False\n",
            "t\n",
            "False\n",
            "y\n",
            "False\n",
            "u\n",
            "False\n",
            "g\n",
            "False\n",
            "c\n",
            "False\n",
            "3\n",
            "True\n",
            "g\n",
            "False\n",
            "d\n",
            "False\n",
            "6\n",
            "True\n",
            "@\n",
            "False\n",
            "yes\n",
            "c\n",
            "False\n",
            "j\n",
            "False\n",
            "u\n",
            "False\n",
            "%\n",
            "False\n",
            "yes\n",
            "$\n",
            "False\n",
            "yes\n",
            "h\n",
            "False\n",
            ".\n",
            "False\n",
            "yes\n",
            "u\n",
            "False\n",
            "j\n",
            "False\n",
            "u\n",
            "False\n",
            "False\n"
          ]
        }
      ]
    },
    {
      "cell_type": "code",
      "source": [
        " print('@' in User_name,'kl')"
      ],
      "metadata": {
        "colab": {
          "base_uri": "https://localhost:8080/"
        },
        "id": "uQycCRFADI_Z",
        "outputId": "f72b5838-1fad-4dd8-8adc-34884f36bb01"
      },
      "execution_count": null,
      "outputs": [
        {
          "output_type": "stream",
          "name": "stdout",
          "text": [
            "True kl\n"
          ]
        }
      ]
    },
    {
      "cell_type": "code",
      "source": [
        "User_name[0]"
      ],
      "metadata": {
        "colab": {
          "base_uri": "https://localhost:8080/",
          "height": 36
        },
        "id": "1SUrg0OCLNzE",
        "outputId": "93f84d50-9e6d-4946-ff12-83c52a53beef"
      },
      "execution_count": null,
      "outputs": [
        {
          "output_type": "execute_result",
          "data": {
            "text/plain": [
              "'c'"
            ],
            "application/vnd.google.colaboratory.intrinsic+json": {
              "type": "string"
            }
          },
          "metadata": {},
          "execution_count": 47
        }
      ]
    },
    {
      "cell_type": "code",
      "source": [
        "User_name[0].isdigit()  #email lo first letter digit undho ledho telusukovadam"
      ],
      "metadata": {
        "colab": {
          "base_uri": "https://localhost:8080/"
        },
        "id": "3qOA9GEFdRcd",
        "outputId": "6458b8be-fb15-43bc-cacf-57f9354e4b29"
      },
      "execution_count": null,
      "outputs": [
        {
          "output_type": "execute_result",
          "data": {
            "text/plain": [
              "False"
            ]
          },
          "metadata": {},
          "execution_count": 44
        }
      ]
    },
    {
      "cell_type": "code",
      "source": [
        "if User_name[0] in list1:  #email lo first letter special character undho ledho telusukovadam\n",
        "  print('yes')         #ikkada first letter lo special character ledhu kanuka print statement raaledhu"
      ],
      "metadata": {
        "id": "P3SpKHysJ5u2"
      },
      "execution_count": null,
      "outputs": []
    },
    {
      "cell_type": "code",
      "source": [
        "User_name[0] in list1"
      ],
      "metadata": {
        "colab": {
          "base_uri": "https://localhost:8080/"
        },
        "id": "ecUjr2ittzU1",
        "outputId": "4f8222d4-40ac-42d2-f7a4-60e6421a09e2"
      },
      "execution_count": null,
      "outputs": [
        {
          "output_type": "execute_result",
          "data": {
            "text/plain": [
              "False"
            ]
          },
          "metadata": {},
          "execution_count": 49
        }
      ]
    },
    {
      "cell_type": "code",
      "source": [
        "password=\"45swrrdd$R\""
      ],
      "metadata": {
        "id": "HNdsIfx0Z3ml"
      },
      "execution_count": null,
      "outputs": []
    },
    {
      "cell_type": "code",
      "source": [
        "password"
      ],
      "metadata": {
        "colab": {
          "base_uri": "https://localhost:8080/",
          "height": 36
        },
        "id": "XicxR8YrMFLE",
        "outputId": "36036590-fb28-4d02-fdd5-56b69119d0b6"
      },
      "execution_count": null,
      "outputs": [
        {
          "output_type": "execute_result",
          "data": {
            "text/plain": [
              "'45swrrddR'"
            ],
            "application/vnd.google.colaboratory.intrinsic+json": {
              "type": "string"
            }
          },
          "metadata": {},
          "execution_count": 16
        }
      ]
    },
    {
      "cell_type": "code",
      "source": [
        "for i in range(len(password)):  #long method length kanukkovadam\n",
        "  print(i)\n",
        "  if i >= 5 and i < 15:   #aa length 5 to 15 lopu undho ledho telusukovadam\n",
        "    pass\n",
        "print('yes')"
      ],
      "metadata": {
        "colab": {
          "base_uri": "https://localhost:8080/"
        },
        "id": "xI0DuAzIMJqB",
        "outputId": "9cfde9b3-99f0-45a3-ff39-b2123481ba3e"
      },
      "execution_count": null,
      "outputs": [
        {
          "output_type": "stream",
          "name": "stdout",
          "text": [
            "0\n",
            "1\n",
            "2\n",
            "3\n",
            "4\n",
            "5\n",
            "6\n",
            "7\n",
            "8\n",
            "yes\n"
          ]
        }
      ]
    },
    {
      "cell_type": "code",
      "source": [
        "#short method\n",
        "\n",
        "if 5 <=len(password) <=15:  #password length 5 to 15 lopu undali.ikkada undho ledho check cheyyadam\n",
        "  print('yes')"
      ],
      "metadata": {
        "colab": {
          "base_uri": "https://localhost:8080/"
        },
        "id": "y7r3SqIFN0k-",
        "outputId": "f72ba9d3-137a-45ad-df96-27ea46df242f"
      },
      "execution_count": null,
      "outputs": [
        {
          "output_type": "stream",
          "name": "stdout",
          "text": [
            "yes\n"
          ]
        }
      ]
    },
    {
      "cell_type": "code",
      "source": [
        "if password .islower():\n",
        "  print('yes')"
      ],
      "metadata": {
        "colab": {
          "base_uri": "https://localhost:8080/"
        },
        "id": "p354oMyYQNSq",
        "outputId": "a4b09a46-59e8-4212-83b5-7cc3d0d307da"
      },
      "execution_count": null,
      "outputs": [
        {
          "output_type": "stream",
          "name": "stdout",
          "text": [
            "yes\n"
          ]
        }
      ]
    },
    {
      "cell_type": "code",
      "source": [
        "if password .isupper():\n",
        "  print('yes')"
      ],
      "metadata": {
        "id": "Iywnd9s6R34S"
      },
      "execution_count": null,
      "outputs": []
    },
    {
      "cell_type": "code",
      "source": [
        "password"
      ],
      "metadata": {
        "colab": {
          "base_uri": "https://localhost:8080/",
          "height": 36
        },
        "id": "uxvq7J49DKdd",
        "outputId": "ae106f65-ed8f-4aeb-d4cf-d78dc6d22b96"
      },
      "execution_count": null,
      "outputs": [
        {
          "output_type": "execute_result",
          "data": {
            "text/plain": [
              "'45swrrddR'"
            ],
            "application/vnd.google.colaboratory.intrinsic+json": {
              "type": "string"
            }
          },
          "metadata": {},
          "execution_count": 7
        }
      ]
    },
    {
      "cell_type": "code",
      "source": [
        "li = [33,66,3,34,5,66,3,7,3]"
      ],
      "metadata": {
        "id": "LEoQSr76DhGW"
      },
      "execution_count": null,
      "outputs": []
    },
    {
      "cell_type": "code",
      "source": [],
      "metadata": {
        "colab": {
          "base_uri": "https://localhost:8080/"
        },
        "id": "XHqaPyegSw0V",
        "outputId": "57a87ab0-0361-4945-adf0-c827a44da431"
      },
      "execution_count": null,
      "outputs": [
        {
          "output_type": "stream",
          "name": "stdout",
          "text": [
            "enter the password : EEE32@\n",
            "password length ok\n",
            "special_char\n",
            "password invalid\n"
          ]
        }
      ]
    },
    {
      "cell_type": "code",
      "source": [],
      "metadata": {
        "colab": {
          "base_uri": "https://localhost:8080/",
          "height": 36
        },
        "id": "RzvPL0WujzJA",
        "outputId": "01e71c2d-821a-4c0f-915b-d99f345ddcd6"
      },
      "execution_count": null,
      "outputs": [
        {
          "output_type": "execute_result",
          "data": {
            "text/plain": [
              "'R'"
            ],
            "application/vnd.google.colaboratory.intrinsic+json": {
              "type": "string"
            }
          },
          "metadata": {},
          "execution_count": 12
        }
      ]
    },
    {
      "cell_type": "code",
      "source": [
        "a= 10\n",
        "b =10\n",
        "c = 10\n",
        "\n",
        "if a == b == c :\n",
        "  print(\"equall \")\n"
      ],
      "metadata": {
        "colab": {
          "base_uri": "https://localhost:8080/"
        },
        "id": "FCBEaL-_W6mR",
        "outputId": "16cdba50-02da-4eed-f997-11256b66c7b3"
      },
      "execution_count": null,
      "outputs": [
        {
          "output_type": "stream",
          "name": "stdout",
          "text": [
            "equall \n"
          ]
        }
      ]
    },
    {
      "cell_type": "code",
      "source": [
        "password\n",
        "\n",
        "\n"
      ],
      "metadata": {
        "colab": {
          "base_uri": "https://localhost:8080/",
          "height": 36
        },
        "id": "1h8bT8oOeqS5",
        "outputId": "3b6231b7-1151-4cf5-f1af-a541eadba523"
      },
      "execution_count": null,
      "outputs": [
        {
          "output_type": "execute_result",
          "data": {
            "text/plain": [
              "'45swrrddR'"
            ],
            "application/vnd.google.colaboratory.intrinsic+json": {
              "type": "string"
            }
          },
          "metadata": {},
          "execution_count": 103
        }
      ]
    },
    {
      "cell_type": "code",
      "source": [
        "for i in password:\n",
        "  print(i)\n",
        "print(i.isupper())\n",
        "print(i.islower())"
      ],
      "metadata": {
        "colab": {
          "base_uri": "https://localhost:8080/"
        },
        "id": "NAisZTyce4QD",
        "outputId": "2c4a8a66-3bed-4387-c80d-b68ee99fa0f9"
      },
      "execution_count": null,
      "outputs": [
        {
          "output_type": "stream",
          "name": "stdout",
          "text": [
            "4\n",
            "5\n",
            "s\n",
            "w\n",
            "r\n",
            "r\n",
            "d\n",
            "d\n",
            "R\n",
            "True\n",
            "False\n"
          ]
        }
      ]
    },
    {
      "cell_type": "code",
      "source": [
        "(i.isupper())  #'i' anedhi temparary variable. adhi loop lopala matrame run avuthundhi.bayatiki vasthey adhi last digit matrame check chesthundhi"
      ],
      "metadata": {
        "colab": {
          "base_uri": "https://localhost:8080/"
        },
        "id": "53KVD7GpYqc9",
        "outputId": "723e5b8a-7ed1-4e66-ab27-87719a02d582"
      },
      "execution_count": null,
      "outputs": [
        {
          "output_type": "execute_result",
          "data": {
            "text/plain": [
              "True"
            ]
          },
          "metadata": {},
          "execution_count": 90
        }
      ]
    },
    {
      "cell_type": "code",
      "source": [
        "i.islower()"
      ],
      "metadata": {
        "colab": {
          "base_uri": "https://localhost:8080/"
        },
        "id": "-HeLNqwvdQwH",
        "outputId": "c1b01631-083d-454a-ab79-aa6fc5c2ba48"
      },
      "execution_count": null,
      "outputs": [
        {
          "output_type": "execute_result",
          "data": {
            "text/plain": [
              "False"
            ]
          },
          "metadata": {},
          "execution_count": 92
        }
      ]
    },
    {
      "cell_type": "code",
      "source": [
        "i.isdigit()"
      ],
      "metadata": {
        "colab": {
          "base_uri": "https://localhost:8080/"
        },
        "id": "yFQT4YnRdQtR",
        "outputId": "dda22828-2fc9-4c02-a22c-5a5e8ca20cc1"
      },
      "execution_count": null,
      "outputs": [
        {
          "output_type": "execute_result",
          "data": {
            "text/plain": [
              "False"
            ]
          },
          "metadata": {},
          "execution_count": 93
        }
      ]
    },
    {
      "cell_type": "code",
      "source": [
        "i"
      ],
      "metadata": {
        "colab": {
          "base_uri": "https://localhost:8080/",
          "height": 36
        },
        "id": "6iwm5pTLeJ27",
        "outputId": "e60c70f7-9afb-4963-bc35-04bf1d9976b0"
      },
      "execution_count": null,
      "outputs": [
        {
          "output_type": "execute_result",
          "data": {
            "text/plain": [
              "'R'"
            ],
            "application/vnd.google.colaboratory.intrinsic+json": {
              "type": "string"
            }
          },
          "metadata": {},
          "execution_count": 94
        }
      ]
    },
    {
      "cell_type": "code",
      "source": [
        "password[4].isdigit()"
      ],
      "metadata": {
        "colab": {
          "base_uri": "https://localhost:8080/"
        },
        "id": "cmSZJec7Vvzj",
        "outputId": "06d2d450-2f31-4d73-c750-99c89299583c"
      },
      "execution_count": null,
      "outputs": [
        {
          "output_type": "execute_result",
          "data": {
            "text/plain": [
              "False"
            ]
          },
          "metadata": {},
          "execution_count": 72
        }
      ]
    },
    {
      "cell_type": "code",
      "source": [
        "i.isdigit()"
      ],
      "metadata": {
        "colab": {
          "base_uri": "https://localhost:8080/"
        },
        "id": "O2MU9hFuXS3R",
        "outputId": "9aca2640-a06d-434f-faaf-9394fcb9cee5"
      },
      "execution_count": null,
      "outputs": [
        {
          "output_type": "execute_result",
          "data": {
            "text/plain": [
              "False"
            ]
          },
          "metadata": {},
          "execution_count": 73
        }
      ]
    },
    {
      "cell_type": "code",
      "source": [
        "password[0].isupper()"
      ],
      "metadata": {
        "colab": {
          "base_uri": "https://localhost:8080/"
        },
        "id": "tmOIDW3lWaOi",
        "outputId": "32884264-9115-4a1c-ebb6-eb8167ad626e"
      },
      "execution_count": null,
      "outputs": [
        {
          "output_type": "execute_result",
          "data": {
            "text/plain": [
              "False"
            ]
          },
          "metadata": {},
          "execution_count": 67
        }
      ]
    },
    {
      "cell_type": "code",
      "source": [],
      "metadata": {
        "id": "Si7XD4SlNsGg"
      },
      "execution_count": null,
      "outputs": []
    },
    {
      "cell_type": "markdown",
      "source": [
        "# Both"
      ],
      "metadata": {
        "id": "y54l5S6iNtYp"
      }
    },
    {
      "cell_type": "code",
      "source": [
        "#email validation\n",
        "User_name = input(\"enter the email :\")\n",
        "\n",
        "list1 =  '$ % ^ & * ( ) _ + = { } | \\\\ ; : \" < > , . / ? @ # % ^ & * + - × ÷ = ≈ ∊ ∊ ∫ ∞ √ π' #manamu ichhe email lo special characters unnayo ledho telusukovadam\n",
        "list1=list1.split(\" \")\n",
        "\n",
        "print(type(list1))\n",
        "\n",
        "if ('@' in User_name):\n",
        "  print('@ in email')\n",
        "\n",
        "\n",
        "if ('.' in User_name):\n",
        "  print('. in email')\n",
        "\n",
        "\n",
        "\n",
        "#print(User_name[0].isdigit())\n",
        "\n",
        "if User_name[0].isdigit():\n",
        "  print('first letter is a digit in your email')\n",
        "#print(User_name[0].isdigit())\n",
        "\n",
        "if User_name[0] in list1:\n",
        "  print('first letter is a special character in your email')\n",
        "#print(User_name[0] in list1)\n",
        "\n",
        "\n",
        "for i in range(len(User_name)):\n",
        "  #print(i)\n",
        "  pass\n",
        "\n",
        "if ('@' in User_name) and ('.' in User_name) and (not User_name[0].isdigit()) and (not User_name[0] in list1):\n",
        "\n",
        "#if i in list1:\n",
        "  print(User_name.index(\"@\"))\n",
        "  print(User_name.index(\".\"))\n",
        "\n",
        "  A = User_name.index(\"@\")\n",
        "  B = User_name.index(\".\")\n",
        "\n",
        "  #print(A,'@')\n",
        "  #print(B,'.')\n",
        "\n",
        "  if A<B and B-A>=3:\n",
        "    print('yes VALID USERNAME')\n",
        "\n",
        "else:\n",
        "  print('Cannot validate username')\n",
        "\n",
        "\n",
        "#Password validation\n",
        "password = input('enter the password : ')\n",
        "list1 = ['$','%','&','*','@','.']\n",
        "\n",
        "Upper = False\n",
        "Lower = False\n",
        "Digit = False\n",
        "\n",
        "if 5 <=len(password) <=15:  #password length 5 to 15 lopu undali.ikkada undho ledho check cheyyadam\n",
        "  print('password length ok')\n",
        "\n",
        "\n",
        "for i in password:\n",
        "  if i in list1:\n",
        "    print('special_char')\n",
        "\n",
        "  #if 5 <=len(password) <=15:  #password length 5 to 15 lopu undali.ikkada undho ledho check cheyyadam\n",
        "    #print('yes')\n",
        "\n",
        "\n",
        "\n",
        "  if i.isupper():\n",
        "    Upper = True\n",
        "  elif i.islower():\n",
        "    Lower = True\n",
        "  elif i.isdigit():\n",
        "    Digit = True\n",
        "\n",
        "if (Upper and Lower and Digit):\n",
        "\n",
        "  print('lower,upper,digit')\n",
        "\n",
        "#if 5 <=len(password) <=15:  #password length 5 to 15 lopu undali.ikkada undho ledho check cheyyadam\n",
        "\n",
        "  #print('yes')\n",
        "#if i in list1:\n",
        "  #print('special_char')\n",
        "\n",
        "\n",
        "\n",
        "else:\n",
        "  print(\"password invalid\")\n",
        "\n",
        "\n",
        "\n",
        "  #if i.isupper():\n",
        "    #print('upper')\n",
        "  #elif i.islower():\n",
        "   # print('lower')\n",
        "\n",
        "\n"
      ],
      "metadata": {
        "id": "y2Cj6tj_4zlE"
      },
      "execution_count": null,
      "outputs": []
    },
    {
      "cell_type": "markdown",
      "source": [
        "# login"
      ],
      "metadata": {
        "id": "g-RfALt28gK4"
      }
    },
    {
      "cell_type": "code",
      "source": [],
      "metadata": {
        "id": "3mWPx7u58ldx"
      },
      "execution_count": null,
      "outputs": []
    },
    {
      "cell_type": "code",
      "source": [],
      "metadata": {
        "id": "6qg0kDPG8mYp"
      },
      "execution_count": null,
      "outputs": []
    },
    {
      "cell_type": "code",
      "source": [],
      "metadata": {
        "id": "KdVkwM4K8mbk"
      },
      "execution_count": null,
      "outputs": []
    }
  ]
}