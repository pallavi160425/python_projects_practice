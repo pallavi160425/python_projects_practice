{
  "nbformat": 4,
  "nbformat_minor": 0,
  "metadata": {
    "colab": {
      "provenance": [],
      "authorship_tag": "ABX9TyP09bJ9xQ0XQHTg50a16m3k",
      "include_colab_link": true
    },
    "kernelspec": {
      "name": "python3",
      "display_name": "Python 3"
    },
    "language_info": {
      "name": "python"
    }
  },
  "cells": [
    {
      "cell_type": "markdown",
      "metadata": {
        "id": "view-in-github",
        "colab_type": "text"
      },
      "source": [
        "<a href=\"https://colab.research.google.com/github/pallavi160425/python_projects_practice/blob/main/oops_and_attributes_.ipynb\" target=\"_parent\"><img src=\"https://colab.research.google.com/assets/colab-badge.svg\" alt=\"Open In Colab\"/></a>"
      ]
    },
    {
      "cell_type": "code",
      "execution_count": null,
      "metadata": {
        "id": "mojR8VA99YvI"
      },
      "outputs": [],
      "source": []
    },
    {
      "cell_type": "code",
      "source": [
        "li = [4,4,23,6,6,87]"
      ],
      "metadata": {
        "id": "zynO7Sic9Zp7"
      },
      "execution_count": null,
      "outputs": []
    },
    {
      "cell_type": "code",
      "source": [
        "li"
      ],
      "metadata": {
        "colab": {
          "base_uri": "https://localhost:8080/"
        },
        "id": "L6JvQVfa9ZsN",
        "outputId": "13a2f8e6-3c41-4c17-db3b-5abd106af2c4"
      },
      "execution_count": null,
      "outputs": [
        {
          "output_type": "execute_result",
          "data": {
            "text/plain": [
              "[4, 4, 23, 6, 6, 87]"
            ]
          },
          "metadata": {},
          "execution_count": 2
        }
      ]
    },
    {
      "cell_type": "code",
      "source": [
        "print(type(li))"
      ],
      "metadata": {
        "colab": {
          "base_uri": "https://localhost:8080/"
        },
        "id": "lUuQrzus9ZwI",
        "outputId": "1cc401ee-27d6-49e6-f22e-c3a890292e48"
      },
      "execution_count": null,
      "outputs": [
        {
          "output_type": "stream",
          "name": "stdout",
          "text": [
            "<class 'list'>\n"
          ]
        }
      ]
    },
    {
      "cell_type": "code",
      "source": [
        "li.append(100)"
      ],
      "metadata": {
        "id": "YOPnCM_B99mz"
      },
      "execution_count": null,
      "outputs": []
    },
    {
      "cell_type": "code",
      "source": [
        "li"
      ],
      "metadata": {
        "colab": {
          "base_uri": "https://localhost:8080/"
        },
        "id": "z1eZouTG99rD",
        "outputId": "0f54c7fc-cdc7-47dd-c5aa-decee41c53b4"
      },
      "execution_count": null,
      "outputs": [
        {
          "output_type": "execute_result",
          "data": {
            "text/plain": [
              "[4, 4, 23, 6, 6, 87, 100]"
            ]
          },
          "metadata": {},
          "execution_count": 5
        }
      ]
    },
    {
      "cell_type": "code",
      "source": [
        "li.pop()"
      ],
      "metadata": {
        "colab": {
          "base_uri": "https://localhost:8080/"
        },
        "id": "N48eTmnj99t8",
        "outputId": "8c03a9c6-9339-42e7-c5c5-7e5a8da9b83b"
      },
      "execution_count": null,
      "outputs": [
        {
          "output_type": "execute_result",
          "data": {
            "text/plain": [
              "100"
            ]
          },
          "metadata": {},
          "execution_count": 7
        }
      ]
    },
    {
      "cell_type": "code",
      "source": [
        "li"
      ],
      "metadata": {
        "colab": {
          "base_uri": "https://localhost:8080/"
        },
        "id": "WrCr1nMaBMkd",
        "outputId": "c4dbf066-9c28-447d-db93-39e3c7c0e392"
      },
      "execution_count": null,
      "outputs": [
        {
          "output_type": "execute_result",
          "data": {
            "text/plain": [
              "[4, 4, 23, 6, 6, 87]"
            ]
          },
          "metadata": {},
          "execution_count": 8
        }
      ]
    },
    {
      "cell_type": "code",
      "source": [],
      "metadata": {
        "id": "5lY38jZWrLq1"
      },
      "execution_count": null,
      "outputs": []
    },
    {
      "cell_type": "markdown",
      "source": [
        "# oops first problem"
      ],
      "metadata": {
        "id": "_YnsK8NqrMFj"
      }
    },
    {
      "cell_type": "code",
      "source": [
        "class Dog:\n",
        "\n",
        "  species = 'mammal'\n",
        "\n",
        "  def __init__(self,name,age):\n",
        "\n",
        "    self.name = name\n",
        "\n",
        "    self.age = age\n",
        "\n",
        "\n"
      ],
      "metadata": {
        "id": "jWo4TxO4BMnV"
      },
      "execution_count": null,
      "outputs": []
    },
    {
      "cell_type": "code",
      "source": [
        "dog1  = Dog('Ajju',6)\n",
        "\n",
        "dog2 = Dog('Robert',10)\n",
        "\n",
        "print(f'{dog1.name} is {dog1.age} and {dog2.name} is {dog2.age}')\n",
        "\n",
        "#print(\"{} is {} and {} is {}\".format(dog1.name,dog1.age,dog2.name,dog2.age))\n",
        "\n",
        "if dog1.species == 'mammal':\n",
        "\n",
        "  #print(\"{0} is a {1} !\".format(dog1.name,dog1.species))\n",
        "  print(f'{dog1.name} is a ({dog1.species})')\n",
        "else:\n",
        "  print(f'{dog1.name} is not a ({dog1.species})')\n"
      ],
      "metadata": {
        "colab": {
          "base_uri": "https://localhost:8080/"
        },
        "id": "QwUnt6BchKdv",
        "outputId": "b565c8bb-c516-4ff0-a373-2e4517d3e8f9"
      },
      "execution_count": null,
      "outputs": [
        {
          "output_type": "stream",
          "name": "stdout",
          "text": [
            "Ajju is 6 and Robert is 10\n",
            "Ajju is a (mammal)\n"
          ]
        }
      ]
    },
    {
      "cell_type": "code",
      "source": [
        "dog1 = Dog('Sniper',7)\n",
        "dog4 = Dog('Tommy',9)\n",
        "dog5 = Dog('Buddy',4)\n",
        "\n",
        "print(\"{} is {}, {} is {} and {} is {}\".format(dog1.name,dog1.age,dog4.name,dog4.age,dog5.name,dog5.age))\n",
        "\n",
        "print(f'{dog1.name} is {dog1.age} ,  {dog4.name} is {dog4.age} and {dog5.name} is {dog5.age}')\n",
        "\n",
        "# find the biggest dog\n",
        "\n",
        "def biggest_dog(*args):\n",
        "  return max(args)"
      ],
      "metadata": {
        "colab": {
          "base_uri": "https://localhost:8080/"
        },
        "id": "sJYNrSbKhKa4",
        "outputId": "f8079b63-9bc1-4f3d-9989-b401fe9972ce"
      },
      "execution_count": null,
      "outputs": [
        {
          "output_type": "stream",
          "name": "stdout",
          "text": [
            "Sniper is 7, Tommy is 9 and Buddy is 4\n",
            "Sniper is 7 ,  Tommy is 9 and Buddy is 4\n"
          ]
        }
      ]
    },
    {
      "cell_type": "code",
      "source": [
        "print(biggest_dog)"
      ],
      "metadata": {
        "colab": {
          "base_uri": "https://localhost:8080/"
        },
        "id": "xv8UtLky0SOi",
        "outputId": "5fa45edc-aaa4-431a-ba00-112eae650e33"
      },
      "execution_count": null,
      "outputs": [
        {
          "output_type": "stream",
          "name": "stdout",
          "text": [
            "<function biggest_dog at 0x7cc455047600>\n"
          ]
        }
      ]
    },
    {
      "cell_type": "code",
      "source": [
        "print(biggest_dog(dog1.age,dog4.age,dog5.age))"
      ],
      "metadata": {
        "colab": {
          "base_uri": "https://localhost:8080/"
        },
        "id": "G69ltwrbhO8D",
        "outputId": "43cdf166-07cc-4193-99ac-061e2f65fcc6"
      },
      "execution_count": null,
      "outputs": [
        {
          "output_type": "stream",
          "name": "stdout",
          "text": [
            "9\n"
          ]
        }
      ]
    },
    {
      "cell_type": "code",
      "source": [
        "print(\"The oldest dog is {} years old\".format(biggest_dog(dog1.age,dog4.age,dog5.age)))"
      ],
      "metadata": {
        "colab": {
          "base_uri": "https://localhost:8080/"
        },
        "id": "nGynQVXkxTxS",
        "outputId": "ce85c83f-966b-4606-cce2-dceb72ce9809"
      },
      "execution_count": null,
      "outputs": [
        {
          "output_type": "stream",
          "name": "stdout",
          "text": [
            "The oldest dog is 9 years old\n"
          ]
        }
      ]
    },
    {
      "cell_type": "code",
      "source": [],
      "metadata": {
        "id": "L4gqC3ippfd1"
      },
      "execution_count": null,
      "outputs": []
    },
    {
      "cell_type": "markdown",
      "source": [
        "# Python object types"
      ],
      "metadata": {
        "id": "7lhkwceXpgd_"
      }
    },
    {
      "cell_type": "code",
      "source": [
        "#objects_types.py\n",
        "\n",
        "import sys\n",
        "\n",
        "def function():\n",
        "  pass\n",
        "print(type(1))  #integers\n",
        "\n",
        "print(type(\"\")) #strings\n",
        "\n",
        "print(type([]))  #lists\n",
        "\n",
        "print(type({}))  #dictionary\n",
        "\n",
        "print(type(()))  #tuples\n",
        "\n",
        "print(type(object)) #types\n",
        "\n",
        "print(type(function)) #functions\n",
        "\n",
        "print(type(sys))  #modules"
      ],
      "metadata": {
        "colab": {
          "base_uri": "https://localhost:8080/"
        },
        "id": "diWwwqJyQkyE",
        "outputId": "72f7f873-a34c-4f43-8db3-8ddfec69ac68"
      },
      "execution_count": null,
      "outputs": [
        {
          "output_type": "stream",
          "name": "stdout",
          "text": [
            "<class 'int'>\n",
            "<class 'str'>\n",
            "<class 'list'>\n",
            "<class 'dict'>\n",
            "<class 'tuple'>\n",
            "<class 'type'>\n",
            "<class 'function'>\n",
            "<class 'module'>\n"
          ]
        }
      ]
    },
    {
      "cell_type": "markdown",
      "source": [
        "# Python class keyword(first_objects.py)"
      ],
      "metadata": {
        "id": "8bYher7epyLA"
      }
    },
    {
      "cell_type": "code",
      "source": [
        "# first_object.py\n",
        "\n",
        "class First:\n",
        "  pass\n",
        "\n",
        "fr = First()\n",
        "\n",
        "print(type(fr))\n",
        "print(type(First))\n",
        "\n"
      ],
      "metadata": {
        "colab": {
          "base_uri": "https://localhost:8080/"
        },
        "id": "-pWxOKGyQkvN",
        "outputId": "20834c53-a5a5-49e2-f197-33082bc1ac00"
      },
      "execution_count": null,
      "outputs": [
        {
          "output_type": "stream",
          "name": "stdout",
          "text": [
            "<class '__main__.First'>\n",
            "<class 'type'>\n"
          ]
        }
      ]
    },
    {
      "cell_type": "markdown",
      "source": [
        "# Python object initialization"
      ],
      "metadata": {
        "id": "FFV7XACeqRQS"
      }
    },
    {
      "cell_type": "code",
      "source": [
        "#object_initialization.py\n",
        "\n",
        "class Being:\n",
        "\n",
        "  def __init__(self):\n",
        "\n",
        "    print(\"Being is initialization\")\n",
        "\n",
        "Being()\n",
        "\n"
      ],
      "metadata": {
        "colab": {
          "base_uri": "https://localhost:8080/"
        },
        "id": "v_3H3GxNUpAk",
        "outputId": "cca9da98-e1c7-4a87-b5b7-3650d0077fbe"
      },
      "execution_count": null,
      "outputs": [
        {
          "output_type": "stream",
          "name": "stdout",
          "text": [
            "Being is initialization\n"
          ]
        },
        {
          "output_type": "execute_result",
          "data": {
            "text/plain": [
              "<__main__.Being at 0x78f5b9ecb150>"
            ]
          },
          "metadata": {},
          "execution_count": 11
        }
      ]
    },
    {
      "cell_type": "markdown",
      "source": [
        "# Python object attributes"
      ],
      "metadata": {
        "id": "26NATcEuqa1O"
      }
    },
    {
      "cell_type": "code",
      "source": [
        "\n",
        "#attributes.py\n",
        "\n",
        "class Girl:\n",
        "\n",
        "  def __init__(self,name):   #ikkada enni positional arguments isthamo anni objects manamu ivvochhu\n",
        "\n",
        "    self.name = name\n",
        "\n",
        "girl1 = Girl('pallavi')\n",
        "\n",
        "girl2 = Girl('deepasri')\n",
        "\n",
        "print(girl1.name)\n",
        "print(girl2.name)\n",
        "#Two types of format strings\n",
        "#first one\n",
        "print(f'{girl1.name} and {girl2.name}')\n",
        "#second one\n",
        "print(\"{} and {}\".format(girl1.name,girl2.name))\n",
        "\n"
      ],
      "metadata": {
        "colab": {
          "base_uri": "https://localhost:8080/"
        },
        "id": "OI6SSYyAUo9Q",
        "outputId": "90e14d5c-69d1-4b19-8a35-b70bdfa36678"
      },
      "execution_count": null,
      "outputs": [
        {
          "output_type": "stream",
          "name": "stdout",
          "text": [
            "pallavi\n",
            "deepasri\n",
            "pallavi and deepasri\n",
            "pallavi and deepasri\n"
          ]
        }
      ]
    },
    {
      "cell_type": "code",
      "source": [
        "#attributes_dynamic.py\n",
        "\n",
        "class Person:\n",
        "\n",
        "  pass\n",
        "\n",
        "d = Person()  #ikkada 'd' ane object ki person ki equal chesamu\n",
        "d.age = 35\n",
        "d.name = 'ajay'\n",
        "\n",
        "print(f'{d.name} is {d.age} years old')\n",
        "\n",
        "print(\"{} is {} years old\".format(d.name,d.age))\n"
      ],
      "metadata": {
        "colab": {
          "base_uri": "https://localhost:8080/"
        },
        "id": "s_uJWLBGUo2B",
        "outputId": "f6c294b0-77be-455a-d9de-5a41bf368f71"
      },
      "execution_count": null,
      "outputs": [
        {
          "output_type": "stream",
          "name": "stdout",
          "text": [
            "ajay is 35 years old\n",
            "ajay is 35 years old\n"
          ]
        }
      ]
    },
    {
      "cell_type": "markdown",
      "source": [
        "# Python class attributes"
      ],
      "metadata": {
        "id": "J8n5CVVyq8Jt"
      }
    },
    {
      "cell_type": "code",
      "source": [
        "#class_attribute.py\n",
        "\n",
        "class Cat:\n",
        "\n",
        "  species = 'mammal'\n",
        "\n",
        "  def __init__(self,name,age):\n",
        "\n",
        "    self.catname = name  # ikkada self. dhaggara manamu emaina ivvochhu\n",
        "    self.catage = age\n",
        "\n",
        "cat1 =Cat('Missy',9)  #ikkada name inka age isthamu\n",
        "cat2 = Cat('Lucky',7)\n",
        "\n",
        "if Cat.species == 'mammal':  #ikkada cats anevi mammal oo kaadho check cheyyadam\n",
        "  print(f'{cat1.catname} is a {cat1.species} and {cat2.catname} is a {cat2.species}')\n",
        "\n",
        "  print(f'{cat1.catname} is a {cat1.species}')\n",
        "\n",
        "  print(f'{cat2.catname} is a {cat2.species}')\n",
        "\n",
        "print(Cat.species)\n",
        "print(cat1.__class__.species)\n",
        "print(cat2.__class__.species)\n",
        "\n",
        "print(f'{cat1.catname} is {cat1.catage} and {cat2.catname} is {cat2.catage}')\n",
        "\n",
        "print(\"{} is {} years old and {} is {} years old\".format(cat1.catname,cat1.catage,cat2.catname,cat2.catage))"
      ],
      "metadata": {
        "colab": {
          "base_uri": "https://localhost:8080/"
        },
        "id": "oWkWK5BQZ-Lv",
        "outputId": "83a388b6-72c2-4cfc-f8d8-653175ec5599"
      },
      "execution_count": null,
      "outputs": [
        {
          "output_type": "stream",
          "name": "stdout",
          "text": [
            "Missy is a mammal and Lucky is a mammal\n",
            "Missy is a mammal\n",
            "Lucky is a mammal\n",
            "mammal\n",
            "mammal\n",
            "mammal\n",
            "Missy is 9 and Lucky is 7\n",
            "Missy is 9 years old and Lucky is 7 years old\n"
          ]
        }
      ]
    },
    {
      "cell_type": "markdown",
      "source": [
        "# Python methods"
      ],
      "metadata": {
        "id": "34tJitMNrX48"
      }
    },
    {
      "cell_type": "code",
      "source": [
        "#methods_py\n",
        "\n",
        "class Circle:\n",
        "\n",
        "  pi = 3.141592\n",
        "\n",
        "  def __init__(self,radius=1):\n",
        "\n",
        "    self.radius = radius\n",
        "    #self.area = radius*radius*Circle.pi\n",
        "\n",
        "  def area(self):\n",
        "    return self.radius*self.radius*Circle.pi\n",
        "\n",
        "  def setRadius(self,radius):\n",
        "    self.radius = radius\n",
        "\n",
        "\n",
        "  def getRadius(self):\n",
        "    return self.radius\n"
      ],
      "metadata": {
        "id": "4kMMsBwOZ-Iw"
      },
      "execution_count": null,
      "outputs": []
    },
    {
      "cell_type": "code",
      "source": [
        "C = Circle()\n",
        "\n",
        "C.setRadius(5)\n",
        "\n",
        "print(C.getRadius())\n",
        "print(C.area())\n",
        "\n",
        "print(C.pi)\n",
        "\n",
        "print(\"Radius is: \",C.getRadius())\n",
        "print(\"Area is: \",C.area())\n",
        "\n",
        "print(\"Radius is: {}\".format(C.getRadius()))\n",
        "print(\"Area is: {}\".format(C.area()))\n",
        "\n"
      ],
      "metadata": {
        "colab": {
          "base_uri": "https://localhost:8080/"
        },
        "id": "g7Yw7EwqxisD",
        "outputId": "18d1c50f-fdad-4e51-9a45-56fcb97f5746"
      },
      "execution_count": null,
      "outputs": [
        {
          "output_type": "stream",
          "name": "stdout",
          "text": [
            "5\n",
            "78.5398\n",
            "3.141592\n",
            "Radius is:  5\n",
            "Area is:  78.5398\n",
            "Radius is: 5\n",
            "Area is: 78.5398\n"
          ]
        }
      ]
    },
    {
      "cell_type": "code",
      "source": [
        "#Rectangle\n",
        "\n",
        "class Rectangle:\n",
        "\n",
        "  def __init__(self,length,breadth,unit_cost=0):\n",
        "\n",
        "    self.length = length\n",
        "    self.breadth = breadth\n",
        "    self.unit_cost = unit_cost\n",
        "\n",
        "  def get_perimeter(self):\n",
        "    return 2*(self.length+self.breadth)\n",
        "\n",
        "  def get_area(self):\n",
        "    return self.length*self.breadth\n",
        "\n",
        "  def calculate_cost(self):\n",
        "    area = self.get_area()\n",
        "    return area*self.unit_cost"
      ],
      "metadata": {
        "id": "3aTAebLRyzE6"
      },
      "execution_count": null,
      "outputs": []
    },
    {
      "cell_type": "code",
      "source": [
        "#breadth = 160 cm, length = 120 cm, 1 cm^2 = 2000\n",
        "\n",
        "r = Rectangle(120,160,2000)\n",
        "\n",
        "print(r.get_perimeter())\n",
        "\n",
        "print(r.get_area())\n",
        "\n",
        "print(r.calculate_cost())\n",
        "\n",
        "print(\"Area of rectangle: %s cm^2 \" % (r.get_area()))\n",
        "\n",
        "print(\"cost of rectangle field:Rs. %s\"%(r.calculate_cost()))\n",
        "\n",
        "print(\"the perimeter of the rectangle is {} cm\".format(r.get_perimeter()))\n",
        "print(\"the area of the rectangle is {} cm^2\".format(r.get_area()))\n",
        "print(\"the cost of this property is Rs.{} \".format(r.calculate_cost()))"
      ],
      "metadata": {
        "colab": {
          "base_uri": "https://localhost:8080/"
        },
        "id": "r_tmYdgItOts",
        "outputId": "6e9edda9-fb89-4e95-cfa4-a9a9bb583aa4"
      },
      "execution_count": null,
      "outputs": [
        {
          "output_type": "stream",
          "name": "stdout",
          "text": [
            "560\n",
            "19200\n",
            "38400000\n",
            "Area of rectangle: 19200 cm^2 \n",
            "cost of rectangle field:Rs. 38400000\n",
            "the perimeter of the rectangle is 560 cm\n",
            "the area of the rectangle is 19200 cm^2\n",
            "the cost of this property is Rs.38400000 \n"
          ]
        }
      ]
    },
    {
      "cell_type": "code",
      "source": [
        "120*160"
      ],
      "metadata": {
        "colab": {
          "base_uri": "https://localhost:8080/"
        },
        "id": "QuC-Egs1nCH7",
        "outputId": "4c6e2fa0-f13d-4368-c3e8-304010f2e3d0"
      },
      "execution_count": null,
      "outputs": [
        {
          "output_type": "execute_result",
          "data": {
            "text/plain": [
              "19200"
            ]
          },
          "metadata": {},
          "execution_count": 10
        }
      ]
    },
    {
      "cell_type": "code",
      "source": [
        "19200*2000"
      ],
      "metadata": {
        "colab": {
          "base_uri": "https://localhost:8080/"
        },
        "id": "Uv_-BgEvwWya",
        "outputId": "a08cbfbe-a69a-42b6-80f0-99ec78cb7436"
      },
      "execution_count": null,
      "outputs": [
        {
          "output_type": "execute_result",
          "data": {
            "text/plain": [
              "38400000"
            ]
          },
          "metadata": {},
          "execution_count": 11
        }
      ]
    },
    {
      "cell_type": "code",
      "source": [
        "# Square\n",
        "\n",
        "class Square:\n",
        "\n",
        "  def __init__(self,length,unit_cost=0):\n",
        "\n",
        "    self.length = length\n",
        "\n",
        "    self.unit_cost = unit_cost\n",
        "\n",
        "    #self.breadth = breadth\n",
        "\n",
        "  def  get_perimeter(self):\n",
        "\n",
        "    return 4*(self.length)\n",
        "\n",
        "  def get_area(self):\n",
        "\n",
        "    return (self.length * self.length)\n",
        "\n",
        "  def calculate_cost(self):\n",
        "\n",
        "    area = self.get_area()\n",
        "\n",
        "    return area * self.unit_cost\n",
        "\n"
      ],
      "metadata": {
        "id": "8zykKXWx8UHi"
      },
      "execution_count": 57,
      "outputs": []
    },
    {
      "cell_type": "code",
      "source": [
        "#length = 120, breadth = 160, 1 cm^2 =2000 ---unit_cost\n",
        "\n",
        "S=Square(120,2000)\n",
        "\n",
        "S.get_perimeter()\n",
        "\n",
        "S.get_area()\n",
        "\n",
        "S.calculate_cost()\n",
        "\n",
        "print(\"The perimeter of the square is {}cm\".format(S.get_perimeter()))\n",
        "\n",
        "print(\"The area of the square is {}cm^2\".format(S.get_area()))\n",
        "\n",
        "print(\"The cost of this property is Rs.{}\".format(S.calculate_cost()))\n",
        "\n",
        "print(\"Area of square : %s cm^2 \" % (S.get_area()))\n",
        "\n",
        "print(\"cost of square field:Rs. %s\"%(S.calculate_cost()))"
      ],
      "metadata": {
        "id": "bIxULS1PA67l",
        "colab": {
          "base_uri": "https://localhost:8080/"
        },
        "outputId": "09468f60-7e9c-4fd6-f8f0-1d8d3306fb9e"
      },
      "execution_count": 61,
      "outputs": [
        {
          "output_type": "stream",
          "name": "stdout",
          "text": [
            "The perimeter of the square is 480cm\n",
            "The area of the square is 14400cm^2\n",
            "The cost of this property is Rs.28800000\n",
            "Area of square : 14400 cm^2 \n",
            "cost of square field:Rs. 28800000\n"
          ]
        }
      ]
    },
    {
      "cell_type": "code",
      "source": [
        "4*120"
      ],
      "metadata": {
        "colab": {
          "base_uri": "https://localhost:8080/"
        },
        "id": "d0kQjv4KeTQ8",
        "outputId": "ce5c9515-ea82-46bd-c52e-64ecd9e32ea5"
      },
      "execution_count": 62,
      "outputs": [
        {
          "output_type": "execute_result",
          "data": {
            "text/plain": [
              "480"
            ]
          },
          "metadata": {},
          "execution_count": 62
        }
      ]
    },
    {
      "cell_type": "code",
      "source": [
        "120*120"
      ],
      "metadata": {
        "colab": {
          "base_uri": "https://localhost:8080/"
        },
        "id": "mIOIfFTJeZrd",
        "outputId": "249fc5b8-6388-45c7-9829-380ea5864c58"
      },
      "execution_count": 63,
      "outputs": [
        {
          "output_type": "execute_result",
          "data": {
            "text/plain": [
              "14400"
            ]
          },
          "metadata": {},
          "execution_count": 63
        }
      ]
    },
    {
      "cell_type": "code",
      "source": [
        "14400*2000"
      ],
      "metadata": {
        "colab": {
          "base_uri": "https://localhost:8080/"
        },
        "id": "zStbI2fbeeFw",
        "outputId": "24bcba4c-3905-4358-8586-93294554f4cd"
      },
      "execution_count": 64,
      "outputs": [
        {
          "output_type": "execute_result",
          "data": {
            "text/plain": [
              "28800000"
            ]
          },
          "metadata": {},
          "execution_count": 64
        }
      ]
    },
    {
      "cell_type": "markdown",
      "source": [
        "# Pension System"
      ],
      "metadata": {
        "id": "fVyh1Y3qBDbj"
      }
    },
    {
      "cell_type": "code",
      "source": [
        "#pension system\n",
        "\n",
        "class Pension_system:\n",
        "\n",
        "  def __init__(self,gender,age,maritial_status='widow',**rules):\n",
        "\n",
        "    self.gender = gender\n",
        "\n",
        "    self.age = age\n",
        "\n",
        "    self.maritial_status = maritial_status\n",
        "\n",
        "    self.rules = rules\n",
        "\n",
        "  def eligibility(self):\n",
        "\n",
        "\n",
        "    if (self.age > 60):\n",
        "\n",
        "      return \"Eligible for pension\"\n",
        "\n",
        "    elif (self.maritial_status=='widow'):\n",
        "\n",
        "      return \"Eligible for pension\"\n",
        "\n",
        "    elif ('diseased' in self.rules and self.rules['diseased']=='yes'):\n",
        "\n",
        "      return \"Eligible for pension\"\n",
        "\n",
        "    elif ('physically_handicapped' in self.rules and self.rules['physically_handicapped']=='yes'):\n",
        "\n",
        "      return \"Eligible for pension\"\n",
        "\n",
        "    else:\n",
        "\n",
        "      return \"Not eligible for pension\"\n",
        "\n",
        "\n",
        "    def family_status(self):\n",
        "\n",
        "\n",
        "\n",
        "      #print(\"Eligible for pension\")\n",
        "    #else:\n",
        "     # print(\"Not eligible for pension\")"
      ],
      "metadata": {
        "id": "6oFQDdij8UEn"
      },
      "execution_count": 51,
      "outputs": []
    },
    {
      "cell_type": "code",
      "source": [
        "system =Pension_system('male',50,'widow',diseased='no',physically_handicapped='no')\n",
        "\n",
        "print(system.eligibility())\n"
      ],
      "metadata": {
        "colab": {
          "base_uri": "https://localhost:8080/"
        },
        "id": "wGeJoX9wFTNT",
        "outputId": "346e6e18-ad1d-4deb-c907-cdf63a6b88a7"
      },
      "execution_count": 49,
      "outputs": [
        {
          "output_type": "stream",
          "name": "stdout",
          "text": [
            "Eligible for pension\n"
          ]
        }
      ]
    },
    {
      "cell_type": "code",
      "source": [
        "system2 = Pension_system('female', 65)\n",
        "print(system2.eligibility())"
      ],
      "metadata": {
        "colab": {
          "base_uri": "https://localhost:8080/"
        },
        "id": "tRUi70SQYAl1",
        "outputId": "66b7a059-5ba4-4157-d693-d5b3e5f67885"
      },
      "execution_count": 56,
      "outputs": [
        {
          "output_type": "stream",
          "name": "stdout",
          "text": [
            "Eligible for pension\n"
          ]
        }
      ]
    },
    {
      "cell_type": "code",
      "source": [
        "system3 = Pension_system('male', 45, 'not widow',diseased = 'no')\n",
        "print(system3.eligibility())"
      ],
      "metadata": {
        "colab": {
          "base_uri": "https://localhost:8080/"
        },
        "id": "TqiOecPKe1-r",
        "outputId": "ee2f5262-bb9d-456d-9844-742fe11802eb"
      },
      "execution_count": 67,
      "outputs": [
        {
          "output_type": "stream",
          "name": "stdout",
          "text": [
            "Not eligible for pension\n"
          ]
        }
      ]
    },
    {
      "cell_type": "code",
      "source": [],
      "metadata": {
        "id": "ptGZgUPMe17P"
      },
      "execution_count": null,
      "outputs": []
    }
  ]
}